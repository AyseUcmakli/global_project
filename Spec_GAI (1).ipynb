{
  "nbformat": 4,
  "nbformat_minor": 0,
  "metadata": {
    "colab": {
      "provenance": [],
      "collapsed_sections": []
    },
    "kernelspec": {
      "name": "python3",
      "display_name": "Python 3"
    },
    "language_info": {
      "name": "python"
    },
    "accelerator": "GPU"
  },
  "cells": [
    {
      "cell_type": "code",
      "execution_count": 3,
      "metadata": {
        "id": "hIyU4vtjP2VV"
      },
      "outputs": [],
      "source": [
        "import cv2\n",
        "from numpy import *\n",
        "import numpy as np\n",
        "from matplotlib import pyplot as plt\n",
        "import os\n",
        "import glob"
      ]
    },
    {
      "cell_type": "code",
      "source": [
        "import tensorflow as tf"
      ],
      "metadata": {
        "id": "2IZMApcH7AUR"
      },
      "execution_count": 4,
      "outputs": []
    },
    {
      "cell_type": "code",
      "source": [
        "spec0 =glob.glob(\"/content/drive/MyDrive/spectrograms/0/*.*\")\n",
        "spec1 =glob.glob(\"/content/drive/MyDrive/spectrograms/1/*.*\")\n",
        "spec2 =glob.glob(\"/content/drive/MyDrive/spectrograms/2/*.*\")\n",
        "spec3 =glob.glob(\"/content/drive/MyDrive/spectrograms/3/*.*\")\n",
        "spec4 =glob.glob(\"/content/drive/MyDrive/spectrograms/4/*.*\")\n",
        "spec5 =glob.glob(\"/content/drive/MyDrive/spectrograms/5/*.*\")\n",
        "spec6 =glob.glob(\"/content/drive/MyDrive/spectrograms/6/*.*\")\n",
        "spec7 =glob.glob(\"/content/drive/MyDrive/spectrograms/7/*.*\")\n",
        "spec8 =glob.glob(\"/content/drive/MyDrive/spectrograms/8/*.*\")\n",
        "spec9 =glob.glob(\"/content/drive/MyDrive/spectrograms/9/*.*\")\n",
        "spec_size = [spec0,spec1,spec2,spec3,spec4,spec5,spec6,spec7,spec8,spec9]"
      ],
      "metadata": {
        "id": "SeBmSfjBQ2qE"
      },
      "execution_count": 5,
      "outputs": []
    },
    {
      "cell_type": "code",
      "source": [
        "def on_isleme(liste):\n",
        "  spec=[]\n",
        "  for i in range(len(liste)):\n",
        "    for j in range(len(liste[i])):\n",
        "      img = cv2.imread(liste[i][j],0)\n",
        "      dim = (374, 374)\n",
        "      img = cv2.resize(img, dim, interpolation = cv2.INTER_AREA)\n",
        "      img = cv2.normalize(img, None, alpha=0,beta=255, norm_type=cv2.NORM_MINMAX)\n",
        "      etiketler=liste[i][j].split(\"-\")\n",
        "      etiket=etiketler[1]\n",
        "      gecici = [img,etiket]\n",
        "      spec.append(gecici)\n",
        "  return spec\n"
      ],
      "metadata": {
        "id": "9hdDavbnRZai"
      },
      "execution_count": 6,
      "outputs": []
    },
    {
      "cell_type": "code",
      "source": [
        "def etiket_al(liste):\n",
        "  etiket=[]\n",
        "  for i in range(len(liste)):\n",
        "    etiket.append(liste[i][1])\n",
        "  return etiket\n"
      ],
      "metadata": {
        "id": "vCia2AKw0RqV"
      },
      "execution_count": 7,
      "outputs": []
    },
    {
      "cell_type": "code",
      "source": [
        "def goruntu_al(liste):\n",
        "  goruntu=[]\n",
        "  for i in range(len(liste)):\n",
        "    goruntu.append(liste[i][0])\n",
        "  return goruntu"
      ],
      "metadata": {
        "id": "7IoNf4A8mPEk"
      },
      "execution_count": 8,
      "outputs": []
    },
    {
      "cell_type": "code",
      "source": [
        "spec = on_isleme(spec_size)"
      ],
      "metadata": {
        "id": "aSJWpR4-ajUh"
      },
      "execution_count": 9,
      "outputs": []
    },
    {
      "cell_type": "code",
      "source": [
        "eticets = etiket_al(spec)\n",
        "imgs = goruntu_al(spec)"
      ],
      "metadata": {
        "id": "Zg0CBAWG2w8i"
      },
      "execution_count": 10,
      "outputs": []
    },
    {
      "cell_type": "code",
      "source": [
        "from sklearn.model_selection import train_test_split"
      ],
      "metadata": {
        "id": "MWe7rzpvT5WJ"
      },
      "execution_count": 11,
      "outputs": []
    },
    {
      "cell_type": "code",
      "source": [
        "X, y = imgs , eticets"
      ],
      "metadata": {
        "id": "HiHDEAryoinS"
      },
      "execution_count": 12,
      "outputs": []
    },
    {
      "cell_type": "code",
      "source": [
        "from sklearn.preprocessing import LabelBinarizer\n",
        "lb = LabelBinarizer()\n",
        "y = lb.fit_transform(y)"
      ],
      "metadata": {
        "id": "6qo6Z-qPoVuN"
      },
      "execution_count": 13,
      "outputs": []
    },
    {
      "cell_type": "code",
      "source": [
        "\n",
        "X_train, X_test, y_train, y_test = train_test_split(X, y, train_size=0.8)\n",
        "X_train, X_valid, y_train, y_valid = train_test_split(X_train, y_train, train_size=0.5)\n",
        "X_train = np.array(X_train)\n",
        "y_train = np.array(y_train)\n",
        "X_valid = np.array(X_valid)\n",
        "y_valid = np.array(y_valid)\n",
        "print(len(X_train))\n",
        "print(len(X_test))\n",
        "print(len(X_valid))"
      ],
      "metadata": {
        "colab": {
          "base_uri": "https://localhost:8080/"
        },
        "id": "sQKM1F74z9DF",
        "outputId": "9ad80947-4709-4368-8941-8659789605ef"
      },
      "execution_count": 14,
      "outputs": [
        {
          "output_type": "stream",
          "name": "stdout",
          "text": [
            "3492\n",
            "1747\n",
            "3493\n"
          ]
        }
      ]
    },
    {
      "cell_type": "code",
      "source": [
        "model = tf.keras.Sequential()\n",
        "input_layer = tf.keras.layers.Dense(3000, input_shape=(374,374), activation='relu')\n",
        "model.add(input_layer)\n",
        "model.add(tf.keras.layers.Dense(3000,activation='relu'))\n",
        "model.add(tf.keras.layers.Dropout(0.1))\n",
        "model.add(tf.keras.layers.Dense(3000,activation='relu'))\n",
        "model.add(tf.keras.layers.Dropout(0.1))\n",
        "model.add(tf.keras.layers.Dense(3000,activation='relu'))\n",
        "model.add(tf.keras.layers.Dropout(0.1))\n",
        "model.add(tf.keras.layers.Dense(3000,activation='relu'))\n",
        "model.add(tf.keras.layers.Dropout(0.1))\n",
        "model.add(tf.keras.layers.Flatten())\n",
        "model.add(tf.keras.layers.Dense(10,activation='softmax'))\n",
        "model.compile(optimizer='adam',loss='categorical_crossentropy',metrics=['accuracy'])"
      ],
      "metadata": {
        "id": "LwWZmpW3_9E7"
      },
      "execution_count": 23,
      "outputs": []
    },
    {
      "cell_type": "code",
      "source": [
        "results=model.fit(X_train, y_train, epochs=10, validation_data = (X_valid, y_valid))"
      ],
      "metadata": {
        "colab": {
          "base_uri": "https://localhost:8080/"
        },
        "id": "wJ2DspLWA1NE",
        "outputId": "f4192000-2ebc-4c7c-ef79-011e0ab1ed5f"
      },
      "execution_count": 24,
      "outputs": [
        {
          "output_type": "stream",
          "name": "stdout",
          "text": [
            "Epoch 1/10\n",
            "110/110 [==============================] - 101s 910ms/step - loss: 152.3290 - accuracy: 0.1234 - val_loss: 2.2955 - val_accuracy: 0.1068\n",
            "Epoch 2/10\n",
            "110/110 [==============================] - 98s 894ms/step - loss: 2.4717 - accuracy: 0.1234 - val_loss: 2.2878 - val_accuracy: 0.1068\n",
            "Epoch 3/10\n",
            "110/110 [==============================] - 98s 890ms/step - loss: 2.2840 - accuracy: 0.1220 - val_loss: 2.2814 - val_accuracy: 0.1068\n",
            "Epoch 4/10\n",
            "110/110 [==============================] - 98s 890ms/step - loss: 2.2781 - accuracy: 0.1220 - val_loss: 2.2766 - val_accuracy: 0.1068\n",
            "Epoch 5/10\n",
            "110/110 [==============================] - 98s 889ms/step - loss: 2.2738 - accuracy: 0.1220 - val_loss: 2.2726 - val_accuracy: 0.1068\n",
            "Epoch 6/10\n",
            "110/110 [==============================] - 98s 890ms/step - loss: 2.2706 - accuracy: 0.1220 - val_loss: 2.2698 - val_accuracy: 0.1068\n",
            "Epoch 7/10\n",
            "110/110 [==============================] - 98s 891ms/step - loss: 3.1736 - accuracy: 0.1217 - val_loss: 2.2678 - val_accuracy: 0.1068\n",
            "Epoch 8/10\n",
            "110/110 [==============================] - 98s 893ms/step - loss: 2.2675 - accuracy: 0.1217 - val_loss: 2.2659 - val_accuracy: 0.1068\n",
            "Epoch 9/10\n",
            "110/110 [==============================] - 98s 892ms/step - loss: 2.2647 - accuracy: 0.1220 - val_loss: 2.2646 - val_accuracy: 0.1068\n",
            "Epoch 10/10\n",
            "110/110 [==============================] - 98s 892ms/step - loss: 2.2637 - accuracy: 0.1226 - val_loss: 2.2636 - val_accuracy: 0.1068\n"
          ]
        }
      ]
    },
    {
      "cell_type": "code",
      "source": [
        "history_dict = results.history\n",
        "loss_values = history_dict['loss']\n",
        "val_loss_values = history_dict['val_loss']\n",
        "epochs = range(1, len(loss_values)+1)\n",
        "\n",
        "plt.figure(figsize=(8,6))\n",
        "plt.plot(epochs, loss_values, 'bo', label='Training loss')\n",
        "plt.plot(epochs, val_loss_values, 'b', label='Validation loss')\n",
        "plt.title('Training and validation loss')\n",
        "plt.xlabel('Epochs')\n",
        "plt.ylabel('Loss')\n",
        "plt.legend()\n",
        "plt.show()"
      ],
      "metadata": {
        "colab": {
          "base_uri": "https://localhost:8080/",
          "height": 404
        },
        "id": "pt9ZBbNZk0s8",
        "outputId": "0aadb54c-0e37-46f5-c3f4-5b0dd8bd3d21"
      },
      "execution_count": 28,
      "outputs": [
        {
          "output_type": "display_data",
          "data": {
            "text/plain": [
              "<Figure size 576x432 with 1 Axes>"
            ],
            "image/png": "[encoded data removed]"
          },
          "metadata": {
            "needs_background": "light"
          }
        }
      ]
    },
    {
      "cell_type": "code",
      "source": [
        "acc_values = history_dict['accuracy']\n",
        "val_acc_values = history_dict['val_accuracy']\n",
        "epochs = range(1, len(acc_values)+1)\n",
        "\n",
        "plt.figure(figsize=(8,6))\n",
        "plt.plot(epochs, acc_values, 'bo', label='Training accuracy')\n",
        "plt.plot(epochs, val_acc_values, 'b', label='Validation accuracy')\n",
        "plt.title('Training and validation accuracy')\n",
        "plt.xlabel('Epochs')\n",
        "plt.ylabel('Accuracy')\n",
        "plt.legend()\n",
        "plt.show()"
      ],
      "metadata": {
        "colab": {
          "base_uri": "https://localhost:8080/",
          "height": 404
        },
        "id": "sdNAAZ33_ebi",
        "outputId": "f497da60-315a-40c6-80a2-17149834a859"
      },
      "execution_count": 26,
      "outputs": [
        {
          "output_type": "display_data",
          "data": {
            "text/plain": [
              "<Figure size 576x432 with 1 Axes>"
            ],
            "image/png": "[encoded data removed]"
          },
          "metadata": {
            "needs_background": "light"
          }
        }
      ]
    },
    {
      "cell_type": "code",
      "source": [
        "\n"
      ],
      "metadata": {
        "id": "oX2YTN7yne1H"
      },
      "execution_count": 27,
      "outputs": []
    }
  ]
}